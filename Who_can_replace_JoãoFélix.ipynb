{
 "cells": [
  {
   "cell_type": "markdown",
   "metadata": {},
   "source": [
    "# Who can replace João Félix?\n",
    "\n",
    "### by João Gouveia\n",
    "<br></br>\n",
    "\n",
    "<img src=\"files/joaofelix2.jpg\">\n",
    "\n",
    "<br></br>\n",
    "<a class=\"anchor\" id=\"Table_Contents\"></a>\n",
    "### TABLE OF CONTENTS\n",
    "\n",
    "* [# 1. Introduction](#intro)\n",
    "\n",
    "* [# 2. Data Understanding](#data-understanding)\n",
    "    \n",
    "* [# 3. Data Preparation](#data-preparation)\n",
    "\n",
    "* [# 3. Modelling](#modelling)\n",
    "\n",
    "* [# 4. Results](#results)\n",
    "\n",
    "* [# 5. Made in Benfica?](#madein)"
   ]
  },
  {
   "cell_type": "markdown",
   "metadata": {},
   "source": [
    "<a class=\"anchor\" id=\"intro\"></a>\n",
    "# Introduction"
   ]
  },
  {
   "cell_type": "markdown",
   "metadata": {},
   "source": [
    "Even though we are still on the middle of the Summer, this football's transfer window will be forever be on the Portuguese football fans' mind. After a great season from João Félix in SL Benfica, the historical Spanish club Atlético de Madrid shocked the World of Football by purchasing the Portuguese wonderkid by an impressive fee of 126 million euros. Due to the great contribution that Félix had on Benfica's success during the past season, this transfer turned out as a huge headache for the club's structure and head coach, Bruno Lage.\n",
    "\n",
    "Hence, this project! In a way to combine two things that I love - sports and data analysis -, I decided to use Machine Learning and other techniques to find out who could replace João Félix in Benfica, by finding a set of players that share some resemblance with the Portuguese player. I tried to write this notebook in a way that even people that is not highly familiar with the so-called Data Science could easily understood all the steps I took to reach the conclusions."
   ]
  },
  {
   "cell_type": "markdown",
   "metadata": {},
   "source": [
    "<a class=\"anchor\" id=\"data-understanding\"></a>\n",
    "# Data Understanding"
   ]
  },
  {
   "cell_type": "code",
   "execution_count": 1,
   "metadata": {},
   "outputs": [],
   "source": [
    "import pandas as pd\n",
    "import numpy as np\n",
    "import matplotlib.pyplot as plt\n",
    "import seaborn as sns"
   ]
  },
  {
   "cell_type": "markdown",
   "metadata": {},
   "source": [
    "After importing the most common python libraries, it was important to define which database I should use in order to answer to the question. At first, I wanted to use the Football Manager database, not only because it was an important part of my childhood (as a regular wanna-be coach) but also because it is more vast and complete. However, the only FM database I could find was from 2017, leading me to use the FIFA 19 database instead (available on Kaggle)."
   ]
  },
  {
   "cell_type": "code",
   "execution_count": 2,
   "metadata": {},
   "outputs": [],
   "source": [
    "fifadb = pd.read_csv('fifadb.csv')"
   ]
  },
  {
   "cell_type": "markdown",
   "metadata": {},
   "source": [
    "Once the dataset was imported, it was time to start digging and understand how it is built. And so, the next steps are essentially to perform general analysis on all the data, before proceding to the data preparation phase."
   ]
  },
  {
   "cell_type": "code",
   "execution_count": 5,
   "metadata": {},
   "outputs": [
    {
     "data": {
      "text/plain": [
       "(18207, 89)"
      ]
     },
     "execution_count": 5,
     "metadata": {},
     "output_type": "execute_result"
    }
   ],
   "source": [
    "fifadb.shape"
   ]
  },
  {
   "cell_type": "code",
   "execution_count": 6,
   "metadata": {
    "scrolled": false
   },
   "outputs": [
    {
     "data": {
      "text/plain": [
       "Index(['Unnamed: 0', 'ID', 'Name', 'Age', 'Photo', 'Nationality', 'Flag',\n",
       "       'Overall', 'Potential', 'Club', 'Club Logo', 'Value', 'Wage', 'Special',\n",
       "       'Preferred Foot', 'International Reputation', 'Weak Foot',\n",
       "       'Skill Moves', 'Work Rate', 'Body Type', 'Real Face', 'Position',\n",
       "       'Jersey Number', 'Joined', 'Loaned From', 'Contract Valid Until',\n",
       "       'Height', 'Weight', 'LS', 'ST', 'RS', 'LW', 'LF', 'CF', 'RF', 'RW',\n",
       "       'LAM', 'CAM', 'RAM', 'LM', 'LCM', 'CM', 'RCM', 'RM', 'LWB', 'LDM',\n",
       "       'CDM', 'RDM', 'RWB', 'LB', 'LCB', 'CB', 'RCB', 'RB', 'Crossing',\n",
       "       'Finishing', 'HeadingAccuracy', 'ShortPassing', 'Volleys', 'Dribbling',\n",
       "       'Curve', 'FKAccuracy', 'LongPassing', 'BallControl', 'Acceleration',\n",
       "       'SprintSpeed', 'Agility', 'Reactions', 'Balance', 'ShotPower',\n",
       "       'Jumping', 'Stamina', 'Strength', 'LongShots', 'Aggression',\n",
       "       'Interceptions', 'Positioning', 'Vision', 'Penalties', 'Composure',\n",
       "       'Marking', 'StandingTackle', 'SlidingTackle', 'GKDiving', 'GKHandling',\n",
       "       'GKKicking', 'GKPositioning', 'GKReflexes', 'Release Clause'],\n",
       "      dtype='object')"
      ]
     },
     "execution_count": 6,
     "metadata": {},
     "output_type": "execute_result"
    }
   ],
   "source": [
    "fifadb.columns"
   ]
  },
  {
   "cell_type": "markdown",
   "metadata": {},
   "source": [
    "With these two pieces of code, it is possible to see that this dataset comprises the information (89 variables) of 18.207 players."
   ]
  },
  {
   "cell_type": "code",
   "execution_count": 3,
   "metadata": {
    "scrolled": true
   },
   "outputs": [
    {
     "data": {
      "text/plain": [
       "Unnamed: 0                   0.000000\n",
       "ID                           0.000000\n",
       "Name                         0.000000\n",
       "Age                          0.000000\n",
       "Photo                        0.000000\n",
       "Nationality                  0.000000\n",
       "Flag                         0.000000\n",
       "Overall                      0.000000\n",
       "Potential                    0.000000\n",
       "Club                         1.323667\n",
       "Club Logo                    0.000000\n",
       "Value                        0.000000\n",
       "Wage                         0.000000\n",
       "Special                      0.000000\n",
       "Preferred Foot               0.263635\n",
       "International Reputation     0.263635\n",
       "Weak Foot                    0.263635\n",
       "Skill Moves                  0.263635\n",
       "Work Rate                    0.263635\n",
       "Body Type                    0.263635\n",
       "Real Face                    0.263635\n",
       "Position                     0.329544\n",
       "Jersey Number                0.329544\n",
       "Joined                       8.529686\n",
       "Loaned From                 93.057615\n",
       "Contract Valid Until         1.587302\n",
       "Height                       0.263635\n",
       "Weight                       0.263635\n",
       "LS                          11.451639\n",
       "ST                          11.451639\n",
       "                              ...    \n",
       "Dribbling                    0.263635\n",
       "Curve                        0.263635\n",
       "FKAccuracy                   0.263635\n",
       "LongPassing                  0.263635\n",
       "BallControl                  0.263635\n",
       "Acceleration                 0.263635\n",
       "SprintSpeed                  0.263635\n",
       "Agility                      0.263635\n",
       "Reactions                    0.263635\n",
       "Balance                      0.263635\n",
       "ShotPower                    0.263635\n",
       "Jumping                      0.263635\n",
       "Stamina                      0.263635\n",
       "Strength                     0.263635\n",
       "LongShots                    0.263635\n",
       "Aggression                   0.263635\n",
       "Interceptions                0.263635\n",
       "Positioning                  0.263635\n",
       "Vision                       0.263635\n",
       "Penalties                    0.263635\n",
       "Composure                    0.263635\n",
       "Marking                      0.263635\n",
       "StandingTackle               0.263635\n",
       "SlidingTackle                0.263635\n",
       "GKDiving                     0.263635\n",
       "GKHandling                   0.263635\n",
       "GKKicking                    0.263635\n",
       "GKPositioning                0.263635\n",
       "GKReflexes                   0.263635\n",
       "Release Clause               8.590103\n",
       "Length: 89, dtype: float64"
      ]
     },
     "execution_count": 3,
     "metadata": {},
     "output_type": "execute_result"
    }
   ],
   "source": [
    "fifadb.isna().sum()/len(fifadb)*100"
   ]
  },
  {
   "cell_type": "markdown",
   "metadata": {},
   "source": [
    "Above, one may see that there are several missing values in some variables (not all though). This will be a burden for the clustering part."
   ]
  },
  {
   "cell_type": "code",
   "execution_count": 4,
   "metadata": {
    "scrolled": true
   },
   "outputs": [
    {
     "data": {
      "text/plain": [
       "<matplotlib.axes._subplots.AxesSubplot at 0x1127e930>"
      ]
     },
     "execution_count": 4,
     "metadata": {},
     "output_type": "execute_result"
    },
    {
     "data": {
      "image/png": "[encoded data removed]",
      "text/plain": [
       "<Figure size 432x288 with 1 Axes>"
      ]
     },
     "metadata": {
      "needs_background": "light"
     },
     "output_type": "display_data"
    }
   ],
   "source": [
    "position_totals = {}\n",
    " \n",
    "for i in set(fifadb['Position']):\n",
    "    count = 0\n",
    "    for j in fifadb['Position']:\n",
    "        if j == i:\n",
    "            count+=1\n",
    "    position_totals[i] = count\n",
    "\n",
    "position_totals = pd.Series(position_totals)\n",
    "position_totals.plot('bar')"
   ]
  },
  {
   "cell_type": "markdown",
   "metadata": {},
   "source": [
    "The majority of the players are either strikers, central backs or goalkeepers."
   ]
  },
  {
   "cell_type": "markdown",
   "metadata": {},
   "source": [
    "<a class=\"anchor\" id=\"data-preparation\"></a>\n",
    "# Data Preparation"
   ]
  },
  {
   "cell_type": "markdown",
   "metadata": {},
   "source": [
    "Moving on to the data preparation for the cluster analysis, some changes on the dataset must be made. For instance, there are sevelal missing values on the attributes variables, however, the % of missing values in them is always the same, leading me to assume the players are the same."
   ]
  },
  {
   "cell_type": "code",
   "execution_count": 5,
   "metadata": {},
   "outputs": [],
   "source": [
    "fifadb = fifadb.loc[fifadb['Crossing'].isna() == False]"
   ]
  },
  {
   "cell_type": "markdown",
   "metadata": {},
   "source": [
    "Also, since my computer is not a <i> great machine </i>, every change that I do to minimize the lenght of the dataset will be useful for the computations ahead. As such, I'm going to drop the rows belonging to Goalkeepers and also the attributes related to them."
   ]
  },
  {
   "cell_type": "code",
   "execution_count": 7,
   "metadata": {},
   "outputs": [],
   "source": [
    "fifadb = fifadb.loc[fifadb['Position']!='GK']"
   ]
  },
  {
   "cell_type": "code",
   "execution_count": 9,
   "metadata": {},
   "outputs": [],
   "source": [
    "gk_att = ['GKDiving', 'GKHandling',\n",
    "       'GKKicking', 'GKPositioning', 'GKReflexes']\n",
    "\n",
    "fifadb.drop(gk_att, axis=1, inplace=True)"
   ]
  },
  {
   "cell_type": "markdown",
   "metadata": {},
   "source": [
    "One important aspect to bear in mind for the cluster analysis is the standardization of the variables. However, since the attributes of the players are already standardized (comprised in 0-99), no transformation will be needed."
   ]
  },
  {
   "cell_type": "markdown",
   "metadata": {},
   "source": [
    "<a class=\"anchor\" id=\"modelling\"></a>\n",
    "# Modelling"
   ]
  },
  {
   "cell_type": "markdown",
   "metadata": {},
   "source": [
    "In order to find who are the most similar comparable players to João Félix, the narrowing process will be composed by two phases: a first one where a K-Means analysis is performed, and a second one in which the distances between the vector with the Félix's attributes and the others players' one are computed and sorted.\n",
    "\n",
    "To begin with, it is necessary to import the `KMeans` module from SKLearn."
   ]
  },
  {
   "cell_type": "code",
   "execution_count": 12,
   "metadata": {},
   "outputs": [],
   "source": [
    "from sklearn.cluster import KMeans"
   ]
  },
  {
   "cell_type": "markdown",
   "metadata": {},
   "source": [
    "Afterwards, a subset `fifabdb_val` containing all the players' attributes will be created in order to be used in the modelling part."
   ]
  },
  {
   "cell_type": "code",
   "execution_count": 13,
   "metadata": {},
   "outputs": [],
   "source": [
    "fifadb_val = fifadb[['Finishing', 'HeadingAccuracy', 'ShortPassing', 'Volleys', 'Dribbling',\n",
    "       'Curve', 'FKAccuracy', 'LongPassing', 'BallControl', 'Acceleration',\n",
    "       'SprintSpeed', 'Agility', 'Reactions', 'Balance', 'ShotPower',\n",
    "       'Jumping', 'Stamina', 'Strength', 'LongShots', 'Aggression',\n",
    "       'Interceptions', 'Positioning', 'Vision', 'Penalties', 'Composure',\n",
    "       'Marking', 'StandingTackle', 'SlidingTackle']]"
   ]
  },
  {
   "cell_type": "markdown",
   "metadata": {},
   "source": [
    "One of the main disadvantages of K-Means is the need to define the number of existent clusters. To help, one good measure is to plot the different levels of inertia depending on the number of clusters. At this time, those who are not experts (yet, like me!) may be wondering <i> \"What the hell is inertia?\" </i>.\n",
    "\n",
    "Well, it's not easy to explain by words but imagine that you have only one cluster. It's easy to conclude that all the points will belong to the only cluster and, in that case, inertia is the the sum of the squares of the distances from those points to the centroid (middle of the cluster). If we increase the number of clusters, the distance of the points to the respective cluster will decrease. Although it might seem subjective (and it is, a little), a good starting point for the number of clusters is the so-called \"elbow\" of the plot, where the inertias start to stabilize."
   ]
  },
  {
   "cell_type": "code",
   "execution_count": 24,
   "metadata": {},
   "outputs": [],
   "source": [
    "ks = range(1, 8)\n",
    "inertias = []\n",
    "\n",
    "for k in ks:\n",
    "    model = KMeans(n_clusters = k, n_init = 50, precompute_distances = True, max_iter = 500)\n",
    "    model.fit(fifadb_val)\n",
    "    inertias.append(model.inertia_)"
   ]
  },
  {
   "cell_type": "code",
   "execution_count": 25,
   "metadata": {
    "scrolled": true
   },
   "outputs": [
    {
     "data": {
      "image/png": "[encoded data removed]",
      "text/plain": [
       "<Figure size 432x288 with 1 Axes>"
      ]
     },
     "metadata": {
      "needs_background": "light"
     },
     "output_type": "display_data"
    }
   ],
   "source": [
    "plt.plot(ks, inertias)\n",
    "plt.xlabel('number of clusters', fontsize = 12)\n",
    "plt.ylabel('inertia', fontsize = 12)\n",
    "plt.xticks(np.arange(min(ks), max(ks) + 1, 1))\n",
    "plt.show()"
   ]
  },
  {
   "cell_type": "markdown",
   "metadata": {},
   "source": [
    "As seens above, two possible numbers are 3 and 4. Since I want to decrease the number of players in order to compute the distances after, I think 3 clusters are enough. In the next pieces of code, I'm going to create the model and fit it to the data (`fifadb_val`)"
   ]
  },
  {
   "cell_type": "code",
   "execution_count": 14,
   "metadata": {},
   "outputs": [],
   "source": [
    "model = KMeans(n_clusters=3)"
   ]
  },
  {
   "cell_type": "code",
   "execution_count": 15,
   "metadata": {
    "scrolled": true
   },
   "outputs": [
    {
     "data": {
      "text/plain": [
       "KMeans(algorithm='auto', copy_x=True, init='k-means++', max_iter=300,\n",
       "    n_clusters=3, n_init=10, n_jobs=None, precompute_distances='auto',\n",
       "    random_state=None, tol=0.0001, verbose=0)"
      ]
     },
     "execution_count": 15,
     "metadata": {},
     "output_type": "execute_result"
    }
   ],
   "source": [
    "model.fit(fifadb_val)"
   ]
  },
  {
   "cell_type": "markdown",
   "metadata": {},
   "source": [
    "Once the data is fitted to the model, one might extract the outcome labels (stating the cluster that each player belongs to). After that, I will append a collumn named `Label` to the initial dataset `fifadb`."
   ]
  },
  {
   "cell_type": "code",
   "execution_count": 16,
   "metadata": {},
   "outputs": [],
   "source": [
    "labels = model.predict(fifadb_val)"
   ]
  },
  {
   "cell_type": "code",
   "execution_count": 17,
   "metadata": {},
   "outputs": [
    {
     "data": {
      "image/png": "[encoded data removed]",
      "text/plain": [
       "<Figure size 432x288 with 1 Axes>"
      ]
     },
     "metadata": {
      "needs_background": "light"
     },
     "output_type": "display_data"
    }
   ],
   "source": [
    "labels_set = set(labels)\n",
    "\n",
    "totals = {}\n",
    "\n",
    "for i in set(labels):\n",
    "    sum = 0\n",
    "    for j in labels:\n",
    "        if i==j:\n",
    "            sum += 1\n",
    "        else:\n",
    "            sum += 0\n",
    "    totals[i] = sum\n",
    "\n",
    "plt.bar(range(len(totals)), totals.values(), align='center')\n",
    "plt.xticks(range(len(totals)), list(totals.keys()))\n",
    "plt.show()"
   ]
  },
  {
   "cell_type": "code",
   "execution_count": 19,
   "metadata": {},
   "outputs": [],
   "source": [
    "fifadb['Label'] = model.labels_"
   ]
  },
  {
   "cell_type": "markdown",
   "metadata": {},
   "source": [
    "The clusters have relatively the same size (containing around 5000 and 6000 players). The following code computes the attributes' mean for each label/cluster. "
   ]
  },
  {
   "cell_type": "code",
   "execution_count": 26,
   "metadata": {
    "scrolled": true
   },
   "outputs": [
    {
     "data": {
      "text/html": [
       "<div>\n",
       "<style scoped>\n",
       "    .dataframe tbody tr th:only-of-type {\n",
       "        vertical-align: middle;\n",
       "    }\n",
       "\n",
       "    .dataframe tbody tr th {\n",
       "        vertical-align: top;\n",
       "    }\n",
       "\n",
       "    .dataframe thead th {\n",
       "        text-align: right;\n",
       "    }\n",
       "</style>\n",
       "<table border=\"1\" class=\"dataframe\">\n",
       "  <thead>\n",
       "    <tr style=\"text-align: right;\">\n",
       "      <th>Label</th>\n",
       "      <th>0</th>\n",
       "      <th>1</th>\n",
       "      <th>2</th>\n",
       "    </tr>\n",
       "  </thead>\n",
       "  <tbody>\n",
       "    <tr>\n",
       "      <th>Finishing</th>\n",
       "      <td>31.046953</td>\n",
       "      <td>53.107102</td>\n",
       "      <td>62.682227</td>\n",
       "    </tr>\n",
       "    <tr>\n",
       "      <th>HeadingAccuracy</th>\n",
       "      <td>59.256344</td>\n",
       "      <td>58.111684</td>\n",
       "      <td>54.255305</td>\n",
       "    </tr>\n",
       "    <tr>\n",
       "      <th>ShortPassing</th>\n",
       "      <td>56.676324</td>\n",
       "      <td>69.760787</td>\n",
       "      <td>61.347819</td>\n",
       "    </tr>\n",
       "    <tr>\n",
       "      <th>Volleys</th>\n",
       "      <td>31.479121</td>\n",
       "      <td>51.289423</td>\n",
       "      <td>55.656765</td>\n",
       "    </tr>\n",
       "    <tr>\n",
       "      <th>Dribbling</th>\n",
       "      <td>48.003596</td>\n",
       "      <td>66.487591</td>\n",
       "      <td>66.016466</td>\n",
       "    </tr>\n",
       "    <tr>\n",
       "      <th>Curve</th>\n",
       "      <td>36.720080</td>\n",
       "      <td>60.472700</td>\n",
       "      <td>55.381429</td>\n",
       "    </tr>\n",
       "    <tr>\n",
       "      <th>FKAccuracy</th>\n",
       "      <td>34.047752</td>\n",
       "      <td>55.474227</td>\n",
       "      <td>48.901545</td>\n",
       "    </tr>\n",
       "    <tr>\n",
       "      <th>LongPassing</th>\n",
       "      <td>50.714885</td>\n",
       "      <td>65.991027</td>\n",
       "      <td>51.849431</td>\n",
       "    </tr>\n",
       "    <tr>\n",
       "      <th>BallControl</th>\n",
       "      <td>54.114885</td>\n",
       "      <td>69.036082</td>\n",
       "      <td>65.706501</td>\n",
       "    </tr>\n",
       "    <tr>\n",
       "      <th>Acceleration</th>\n",
       "      <td>61.153846</td>\n",
       "      <td>68.819206</td>\n",
       "      <td>72.853336</td>\n",
       "    </tr>\n",
       "    <tr>\n",
       "      <th>SprintSpeed</th>\n",
       "      <td>61.988212</td>\n",
       "      <td>68.477472</td>\n",
       "      <td>72.661518</td>\n",
       "    </tr>\n",
       "    <tr>\n",
       "      <th>Agility</th>\n",
       "      <td>57.096903</td>\n",
       "      <td>69.767087</td>\n",
       "      <td>71.387540</td>\n",
       "    </tr>\n",
       "    <tr>\n",
       "      <th>Reactions</th>\n",
       "      <td>58.544456</td>\n",
       "      <td>67.201222</td>\n",
       "      <td>60.864030</td>\n",
       "    </tr>\n",
       "    <tr>\n",
       "      <th>Balance</th>\n",
       "      <td>59.739860</td>\n",
       "      <td>69.413135</td>\n",
       "      <td>69.888134</td>\n",
       "    </tr>\n",
       "    <tr>\n",
       "      <th>ShotPower</th>\n",
       "      <td>46.648352</td>\n",
       "      <td>66.477663</td>\n",
       "      <td>64.468511</td>\n",
       "    </tr>\n",
       "    <tr>\n",
       "      <th>Jumping</th>\n",
       "      <td>67.274126</td>\n",
       "      <td>67.659985</td>\n",
       "      <td>63.488372</td>\n",
       "    </tr>\n",
       "    <tr>\n",
       "      <th>Stamina</th>\n",
       "      <td>64.754645</td>\n",
       "      <td>74.039519</td>\n",
       "      <td>63.556272</td>\n",
       "    </tr>\n",
       "    <tr>\n",
       "      <th>Strength</th>\n",
       "      <td>69.690909</td>\n",
       "      <td>67.632493</td>\n",
       "      <td>61.147004</td>\n",
       "    </tr>\n",
       "    <tr>\n",
       "      <th>LongShots</th>\n",
       "      <td>33.949251</td>\n",
       "      <td>60.330088</td>\n",
       "      <td>58.380920</td>\n",
       "    </tr>\n",
       "    <tr>\n",
       "      <th>Aggression</th>\n",
       "      <td>63.160839</td>\n",
       "      <td>68.043146</td>\n",
       "      <td>48.988627</td>\n",
       "    </tr>\n",
       "    <tr>\n",
       "      <th>Interceptions</th>\n",
       "      <td>60.689710</td>\n",
       "      <td>64.355479</td>\n",
       "      <td>29.301816</td>\n",
       "    </tr>\n",
       "    <tr>\n",
       "      <th>Positioning</th>\n",
       "      <td>38.986414</td>\n",
       "      <td>60.671058</td>\n",
       "      <td>63.058055</td>\n",
       "    </tr>\n",
       "    <tr>\n",
       "      <th>Vision</th>\n",
       "      <td>42.911489</td>\n",
       "      <td>63.842688</td>\n",
       "      <td>58.666950</td>\n",
       "    </tr>\n",
       "    <tr>\n",
       "      <th>Penalties</th>\n",
       "      <td>40.396204</td>\n",
       "      <td>54.983391</td>\n",
       "      <td>59.564251</td>\n",
       "    </tr>\n",
       "    <tr>\n",
       "      <th>Composure</th>\n",
       "      <td>54.565634</td>\n",
       "      <td>66.134593</td>\n",
       "      <td>60.109829</td>\n",
       "    </tr>\n",
       "    <tr>\n",
       "      <th>Marking</th>\n",
       "      <td>60.915085</td>\n",
       "      <td>62.675449</td>\n",
       "      <td>33.030385</td>\n",
       "    </tr>\n",
       "    <tr>\n",
       "      <th>StandingTackle</th>\n",
       "      <td>63.894106</td>\n",
       "      <td>65.409698</td>\n",
       "      <td>29.723816</td>\n",
       "    </tr>\n",
       "    <tr>\n",
       "      <th>SlidingTackle</th>\n",
       "      <td>61.929271</td>\n",
       "      <td>62.650057</td>\n",
       "      <td>27.593448</td>\n",
       "    </tr>\n",
       "  </tbody>\n",
       "</table>\n",
       "</div>"
      ],
      "text/plain": [
       "Label                    0          1          2\n",
       "Finishing        31.046953  53.107102  62.682227\n",
       "HeadingAccuracy  59.256344  58.111684  54.255305\n",
       "ShortPassing     56.676324  69.760787  61.347819\n",
       "Volleys          31.479121  51.289423  55.656765\n",
       "Dribbling        48.003596  66.487591  66.016466\n",
       "Curve            36.720080  60.472700  55.381429\n",
       "FKAccuracy       34.047752  55.474227  48.901545\n",
       "LongPassing      50.714885  65.991027  51.849431\n",
       "BallControl      54.114885  69.036082  65.706501\n",
       "Acceleration     61.153846  68.819206  72.853336\n",
       "SprintSpeed      61.988212  68.477472  72.661518\n",
       "Agility          57.096903  69.767087  71.387540\n",
       "Reactions        58.544456  67.201222  60.864030\n",
       "Balance          59.739860  69.413135  69.888134\n",
       "ShotPower        46.648352  66.477663  64.468511\n",
       "Jumping          67.274126  67.659985  63.488372\n",
       "Stamina          64.754645  74.039519  63.556272\n",
       "Strength         69.690909  67.632493  61.147004\n",
       "LongShots        33.949251  60.330088  58.380920\n",
       "Aggression       63.160839  68.043146  48.988627\n",
       "Interceptions    60.689710  64.355479  29.301816\n",
       "Positioning      38.986414  60.671058  63.058055\n",
       "Vision           42.911489  63.842688  58.666950\n",
       "Penalties        40.396204  54.983391  59.564251\n",
       "Composure        54.565634  66.134593  60.109829\n",
       "Marking          60.915085  62.675449  33.030385\n",
       "StandingTackle   63.894106  65.409698  29.723816\n",
       "SlidingTackle    61.929271  62.650057  27.593448"
      ]
     },
     "execution_count": 26,
     "metadata": {},
     "output_type": "execute_result"
    }
   ],
   "source": [
    "descr = fifadb[['Finishing', 'HeadingAccuracy', 'ShortPassing', 'Volleys', 'Dribbling',\n",
    "       'Curve', 'FKAccuracy', 'LongPassing', 'BallControl', 'Acceleration',\n",
    "       'SprintSpeed', 'Agility', 'Reactions', 'Balance', 'ShotPower',\n",
    "       'Jumping', 'Stamina', 'Strength', 'LongShots', 'Aggression',\n",
    "       'Interceptions', 'Positioning', 'Vision', 'Penalties', 'Composure',\n",
    "       'Marking', 'StandingTackle', 'SlidingTackle','Label']].groupby(['Label']).mean().T\n",
    "descr"
   ]
  },
  {
   "cell_type": "markdown",
   "metadata": {},
   "source": [
    "By the previous analysis, there are some interesting insights that one can already draw. For instance, cluster 1 and 2 have higher average of Finishing, ShotPower, Dribbling and SprintSpeed. While cluster 0 and 1 have the higher average of Marking, StandingTackle and SlidingTackle.\n",
    "\n",
    "This leads me to conclude that the majority of the strikers are in the cluster 2 and the defenders in cluster 0. Regarding the cluster 1, it is very mixed in terms of attributes, which might indicate a high percentage of midfielders."
   ]
  },
  {
   "cell_type": "markdown",
   "metadata": {},
   "source": [
    "In order to narrow the dataset, it is important to know what is the cluster in which João Félix is."
   ]
  },
  {
   "cell_type": "code",
   "execution_count": 27,
   "metadata": {
    "scrolled": true
   },
   "outputs": [
    {
     "data": {
      "text/plain": [
       "2"
      ]
     },
     "execution_count": 27,
     "metadata": {},
     "output_type": "execute_result"
    }
   ],
   "source": [
    "JF_label = fifadb.loc[fifadb['Name']=='João Félix']['Label']\n",
    "JF_label"
   ]
  },
  {
   "cell_type": "markdown",
   "metadata": {},
   "source": [
    "João Félix belongs to the cluster 2, which makes sense regarding our previous analysis. The Portuguese wonderkid is an attacking midfielder, playing an important role in the last third of the field.\n",
    "\n",
    "In this next step, I will narrow the dataset to players belonging to the same cluster as João Félix (and calling it `fifadb_2`)."
   ]
  },
  {
   "cell_type": "code",
   "execution_count": 33,
   "metadata": {},
   "outputs": [],
   "source": [
    "fifadb_2 = fifadb.loc[fifadb['Label']==int(JF_label)]"
   ]
  },
  {
   "cell_type": "markdown",
   "metadata": {},
   "source": [
    "The vector containing the attributes of Félix is stored in `JF_vector`."
   ]
  },
  {
   "cell_type": "code",
   "execution_count": 34,
   "metadata": {
    "scrolled": true
   },
   "outputs": [
    {
     "data": {
      "text/plain": [
       "array([[64., 58., 70., 67., 78., 72., 51., 67., 77., 77., 80., 84., 70.,\n",
       "        78., 72., 78., 73., 60., 68., 51., 38., 62., 72., 53., 73., 28.,\n",
       "        42., 35.]])"
      ]
     },
     "execution_count": 34,
     "metadata": {},
     "output_type": "execute_result"
    }
   ],
   "source": [
    "JF_vector = fifadb_2.loc[fifadb_2['Name']=='João Félix'][['Finishing', 'HeadingAccuracy', 'ShortPassing', 'Volleys', 'Dribbling',\n",
    "       'Curve', 'FKAccuracy', 'LongPassing', 'BallControl', 'Acceleration',\n",
    "       'SprintSpeed', 'Agility', 'Reactions', 'Balance', 'ShotPower',\n",
    "       'Jumping', 'Stamina', 'Strength', 'LongShots', 'Aggression',\n",
    "       'Interceptions', 'Positioning', 'Vision', 'Penalties', 'Composure',\n",
    "       'Marking', 'StandingTackle', 'SlidingTackle']].values\n",
    "\n",
    "JF_vector"
   ]
  },
  {
   "cell_type": "markdown",
   "metadata": {},
   "source": [
    "To narrow even more the dataset, from now on, I will only work with athletes that are 21 years old or younger (it will be stored in a dataset called `fifadb_3`)."
   ]
  },
  {
   "cell_type": "code",
   "execution_count": 35,
   "metadata": {},
   "outputs": [],
   "source": [
    "fifadb_3 = fifadb_2.loc[(fifadb_2['Age']<=21) & (fifadb_2['Name']!='João Félix')]"
   ]
  },
  {
   "cell_type": "markdown",
   "metadata": {},
   "source": [
    "Now it's time for the second step. Within the cluster of JF, I will compute the distances from those points to `JF_vector`. After that, I will compute the inverse of each distance value, to build a similarity measure (higher the value, closer to the vector)."
   ]
  },
  {
   "cell_type": "code",
   "execution_count": 36,
   "metadata": {},
   "outputs": [],
   "source": [
    "from scipy.spatial import distance\n",
    "\n",
    "similarities = {}\n",
    "\n",
    "for i in fifadb_3['ID'].values:\n",
    "    v = fifadb_3.loc[fifadb_3['ID']==i][['Finishing', 'HeadingAccuracy', 'ShortPassing', 'Volleys', 'Dribbling',\n",
    "       'Curve', 'FKAccuracy', 'LongPassing', 'BallControl', 'Acceleration',\n",
    "       'SprintSpeed', 'Agility', 'Reactions', 'Balance', 'ShotPower',\n",
    "       'Jumping', 'Stamina', 'Strength', 'LongShots', 'Aggression',\n",
    "       'Interceptions', 'Positioning', 'Vision', 'Penalties', 'Composure',\n",
    "       'Marking', 'StandingTackle', 'SlidingTackle']].values\n",
    "    sim = 1/(distance.euclidean(JF_vector,v))\n",
    "    similarities[i] = sim = 1/(distance.euclidean(JF_vector,v))\n"
   ]
  },
  {
   "cell_type": "markdown",
   "metadata": {},
   "source": [
    "In the next step I will standardize it, applying a Min-Max transformation and append it to `fifadb_3`, naming it `Similar`."
   ]
  },
  {
   "cell_type": "code",
   "execution_count": 37,
   "metadata": {},
   "outputs": [],
   "source": [
    "max_s = max(similarities.values())\n",
    "min_s = min(similarities.values())\n",
    "\n",
    "for i in similarities:\n",
    "    similarities[i] = round(((similarities[i]-min_s)/(max_s-min_s)*100),2)"
   ]
  },
  {
   "cell_type": "code",
   "execution_count": 38,
   "metadata": {},
   "outputs": [],
   "source": [
    "similarities = pd.DataFrame(similarities.items(), columns=['ID', 'Similar'])"
   ]
  },
  {
   "cell_type": "code",
   "execution_count": 39,
   "metadata": {},
   "outputs": [],
   "source": [
    "fifadb_3 = pd.merge(fifadb_3, similarities, how='inner', on='ID', left_on=None, right_on=None)"
   ]
  },
  {
   "cell_type": "markdown",
   "metadata": {},
   "source": [
    "<a class=\"anchor\" id=\"results\"></a>\n",
    "# Results"
   ]
  },
  {
   "cell_type": "markdown",
   "metadata": {},
   "source": [
    "Finally, it is time to check the results. The next piece of code, orders the similarity by descending order and filtering the players according to its Potential (higher or equal to 83)."
   ]
  },
  {
   "cell_type": "code",
   "execution_count": 41,
   "metadata": {},
   "outputs": [
    {
     "data": {
      "text/html": [
       "<div>\n",
       "<style scoped>\n",
       "    .dataframe tbody tr th:only-of-type {\n",
       "        vertical-align: middle;\n",
       "    }\n",
       "\n",
       "    .dataframe tbody tr th {\n",
       "        vertical-align: top;\n",
       "    }\n",
       "\n",
       "    .dataframe thead th {\n",
       "        text-align: right;\n",
       "    }\n",
       "</style>\n",
       "<table border=\"1\" class=\"dataframe\">\n",
       "  <thead>\n",
       "    <tr style=\"text-align: right;\">\n",
       "      <th></th>\n",
       "      <th>237</th>\n",
       "      <th>127</th>\n",
       "      <th>67</th>\n",
       "      <th>44</th>\n",
       "      <th>49</th>\n",
       "      <th>86</th>\n",
       "      <th>8</th>\n",
       "      <th>34</th>\n",
       "      <th>74</th>\n",
       "      <th>76</th>\n",
       "      <th>35</th>\n",
       "      <th>58</th>\n",
       "    </tr>\n",
       "  </thead>\n",
       "  <tbody>\n",
       "    <tr>\n",
       "      <th>ID</th>\n",
       "      <td>241026</td>\n",
       "      <td>239970</td>\n",
       "      <td>241168</td>\n",
       "      <td>231826</td>\n",
       "      <td>244193</td>\n",
       "      <td>236786</td>\n",
       "      <td>235790</td>\n",
       "      <td>233631</td>\n",
       "      <td>237670</td>\n",
       "      <td>239482</td>\n",
       "      <td>234711</td>\n",
       "      <td>233550</td>\n",
       "    </tr>\n",
       "    <tr>\n",
       "      <th>Name</th>\n",
       "      <td>T. Chancalay</td>\n",
       "      <td>Paulinho</td>\n",
       "      <td>G. Chakvetadze</td>\n",
       "      <td>Y. Karamoh</td>\n",
       "      <td>Jovane Cabral</td>\n",
       "      <td>M. Terrier</td>\n",
       "      <td>K. Havertz</td>\n",
       "      <td>A. Ndiaye Diedhiou</td>\n",
       "      <td>Bruno Xadas</td>\n",
       "      <td>Galeno</td>\n",
       "      <td>J. Brekalo</td>\n",
       "      <td>S. Grandsir</td>\n",
       "    </tr>\n",
       "    <tr>\n",
       "      <th>Age</th>\n",
       "      <td>19</td>\n",
       "      <td>17</td>\n",
       "      <td>18</td>\n",
       "      <td>19</td>\n",
       "      <td>20</td>\n",
       "      <td>21</td>\n",
       "      <td>19</td>\n",
       "      <td>21</td>\n",
       "      <td>20</td>\n",
       "      <td>20</td>\n",
       "      <td>20</td>\n",
       "      <td>21</td>\n",
       "    </tr>\n",
       "    <tr>\n",
       "      <th>Nationality</th>\n",
       "      <td>Argentina</td>\n",
       "      <td>Brazil</td>\n",
       "      <td>Georgia</td>\n",
       "      <td>France</td>\n",
       "      <td>Cape Verde</td>\n",
       "      <td>France</td>\n",
       "      <td>Germany</td>\n",
       "      <td>Senegal</td>\n",
       "      <td>Portugal</td>\n",
       "      <td>Brazil</td>\n",
       "      <td>Croatia</td>\n",
       "      <td>France</td>\n",
       "    </tr>\n",
       "    <tr>\n",
       "      <th>Overall</th>\n",
       "      <td>68</td>\n",
       "      <td>71</td>\n",
       "      <td>73</td>\n",
       "      <td>75</td>\n",
       "      <td>75</td>\n",
       "      <td>73</td>\n",
       "      <td>80</td>\n",
       "      <td>76</td>\n",
       "      <td>73</td>\n",
       "      <td>73</td>\n",
       "      <td>76</td>\n",
       "      <td>74</td>\n",
       "    </tr>\n",
       "    <tr>\n",
       "      <th>Potential</th>\n",
       "      <td>83</td>\n",
       "      <td>86</td>\n",
       "      <td>86</td>\n",
       "      <td>85</td>\n",
       "      <td>87</td>\n",
       "      <td>83</td>\n",
       "      <td>89</td>\n",
       "      <td>85</td>\n",
       "      <td>84</td>\n",
       "      <td>84</td>\n",
       "      <td>84</td>\n",
       "      <td>85</td>\n",
       "    </tr>\n",
       "    <tr>\n",
       "      <th>Club</th>\n",
       "      <td>Club Atlético Colón</td>\n",
       "      <td>Bayer 04 Leverkusen</td>\n",
       "      <td>KAA Gent</td>\n",
       "      <td>FC Girondins de Bordeaux</td>\n",
       "      <td>Sporting CP</td>\n",
       "      <td>Olympique Lyonnais</td>\n",
       "      <td>Bayer 04 Leverkusen</td>\n",
       "      <td>Getafe CF</td>\n",
       "      <td>SC Braga</td>\n",
       "      <td>Rio Ave FC</td>\n",
       "      <td>VfL Wolfsburg</td>\n",
       "      <td>AS Monaco</td>\n",
       "    </tr>\n",
       "    <tr>\n",
       "      <th>Value</th>\n",
       "      <td>€1.9M</td>\n",
       "      <td>€4.7M</td>\n",
       "      <td>€7M</td>\n",
       "      <td>€10.5M</td>\n",
       "      <td>€12M</td>\n",
       "      <td>€6.5M</td>\n",
       "      <td>€22M</td>\n",
       "      <td>€12M</td>\n",
       "      <td>€7M</td>\n",
       "      <td>€7M</td>\n",
       "      <td>€11.5M</td>\n",
       "      <td>€9.5M</td>\n",
       "    </tr>\n",
       "    <tr>\n",
       "      <th>Wage</th>\n",
       "      <td>€3K</td>\n",
       "      <td>€15K</td>\n",
       "      <td>€10K</td>\n",
       "      <td>€24K</td>\n",
       "      <td>€9K</td>\n",
       "      <td>€35K</td>\n",
       "      <td>€32K</td>\n",
       "      <td>€17K</td>\n",
       "      <td>€9K</td>\n",
       "      <td>€9K</td>\n",
       "      <td>€33K</td>\n",
       "      <td>€36K</td>\n",
       "    </tr>\n",
       "    <tr>\n",
       "      <th>Similar</th>\n",
       "      <td>100</td>\n",
       "      <td>98.44</td>\n",
       "      <td>83.91</td>\n",
       "      <td>81.66</td>\n",
       "      <td>81.41</td>\n",
       "      <td>78.56</td>\n",
       "      <td>78.33</td>\n",
       "      <td>73.36</td>\n",
       "      <td>72.86</td>\n",
       "      <td>67.4</td>\n",
       "      <td>65.57</td>\n",
       "      <td>63.22</td>\n",
       "    </tr>\n",
       "  </tbody>\n",
       "</table>\n",
       "</div>"
      ],
      "text/plain": [
       "                             237                  127             67   \\\n",
       "ID                        241026               239970          241168   \n",
       "Name                T. Chancalay             Paulinho  G. Chakvetadze   \n",
       "Age                           19                   17              18   \n",
       "Nationality            Argentina               Brazil         Georgia   \n",
       "Overall                       68                   71              73   \n",
       "Potential                     83                   86              86   \n",
       "Club         Club Atlético Colón  Bayer 04 Leverkusen        KAA Gent   \n",
       "Value                      €1.9M                €4.7M             €7M   \n",
       "Wage                         €3K                 €15K            €10K   \n",
       "Similar                      100                98.44           83.91   \n",
       "\n",
       "                                  44             49                  86   \\\n",
       "ID                             231826         244193              236786   \n",
       "Name                       Y. Karamoh  Jovane Cabral          M. Terrier   \n",
       "Age                                19             20                  21   \n",
       "Nationality                    France     Cape Verde              France   \n",
       "Overall                            75             75                  73   \n",
       "Potential                          85             87                  83   \n",
       "Club         FC Girondins de Bordeaux    Sporting CP  Olympique Lyonnais   \n",
       "Value                          €10.5M           €12M               €6.5M   \n",
       "Wage                             €24K            €9K                €35K   \n",
       "Similar                         81.66          81.41               78.56   \n",
       "\n",
       "                             8                   34           74          76   \\\n",
       "ID                        235790              233631       237670      239482   \n",
       "Name                  K. Havertz  A. Ndiaye Diedhiou  Bruno Xadas      Galeno   \n",
       "Age                           19                  21           20          20   \n",
       "Nationality              Germany             Senegal     Portugal      Brazil   \n",
       "Overall                       80                  76           73          73   \n",
       "Potential                     89                  85           84          84   \n",
       "Club         Bayer 04 Leverkusen           Getafe CF     SC Braga  Rio Ave FC   \n",
       "Value                       €22M                €12M          €7M         €7M   \n",
       "Wage                        €32K                €17K          €9K         €9K   \n",
       "Similar                    78.33               73.36        72.86        67.4   \n",
       "\n",
       "                       35           58   \n",
       "ID                  234711       233550  \n",
       "Name            J. Brekalo  S. Grandsir  \n",
       "Age                     20           21  \n",
       "Nationality        Croatia       France  \n",
       "Overall                 76           74  \n",
       "Potential               84           85  \n",
       "Club         VfL Wolfsburg    AS Monaco  \n",
       "Value               €11.5M        €9.5M  \n",
       "Wage                  €33K         €36K  \n",
       "Similar              65.57        63.22  "
      ]
     },
     "execution_count": 41,
     "metadata": {},
     "output_type": "execute_result"
    }
   ],
   "source": [
    "fifadb_3.sort_values(by='Similar', ascending=False).drop(['Photo','Club Logo','Flag'],\n",
    "                                                    axis=1).loc[fifadb_3['Potential']>=83][['ID',\n",
    "                                                    'Name', 'Age', 'Nationality',\n",
    "                                                    'Overall', 'Potential', 'Club', 'Value',\n",
    "                                                    'Wage', 'Similar']].head(12).T"
   ]
  },
  {
   "cell_type": "markdown",
   "metadata": {
    "scrolled": false
   },
   "source": [
    "It is interesting to see that there are some familiar names and some unknown in this final TOP12. On one side we have Havertz which is one of the most promising players in the World. We also can see Jovane Cabral from Sporting CP and also Bruno Xadas and Galeno. On the other side, in terms of attributes, the player that shows the highest resemblance with João Félix is Tomás Chancalay: a 19 years old Argentinian kid that plays for Colón. Is he closer to a big move to Europe or will he be one of the many players across the World that will never match its potential. Time will tell... "
   ]
  },
  {
   "cell_type": "markdown",
   "metadata": {},
   "source": [
    "<a class=\"anchor\" id=\"madein\"></a>\n",
    "# <i> Made in </i> Benfica?"
   ]
  },
  {
   "cell_type": "markdown",
   "metadata": {},
   "source": [
    "Nevertheless, and being Benfica a top-tier academy, it seems logical to think that the answer to João Félix's transfer might already being training in Seixal. As such, the following analysis will look into the similarity between Félix and the former colleagues. Unfortunately, neither João Filipe (aka Jota) nor Adel Taarabt are in this dataset."
   ]
  },
  {
   "cell_type": "code",
   "execution_count": 66,
   "metadata": {},
   "outputs": [],
   "source": [
    "SLB_players = fifadb.loc[fifadb['Club']=='SL Benfica']"
   ]
  },
  {
   "cell_type": "code",
   "execution_count": 85,
   "metadata": {},
   "outputs": [
    {
     "data": {
      "text/html": [
       "<div>\n",
       "<style scoped>\n",
       "    .dataframe tbody tr th:only-of-type {\n",
       "        vertical-align: middle;\n",
       "    }\n",
       "\n",
       "    .dataframe tbody tr th {\n",
       "        vertical-align: top;\n",
       "    }\n",
       "\n",
       "    .dataframe thead th {\n",
       "        text-align: right;\n",
       "    }\n",
       "</style>\n",
       "<table border=\"1\" class=\"dataframe\">\n",
       "  <thead>\n",
       "    <tr style=\"text-align: right;\">\n",
       "      <th></th>\n",
       "      <th>Unnamed: 0</th>\n",
       "      <th>ID</th>\n",
       "      <th>Name</th>\n",
       "      <th>Age</th>\n",
       "      <th>Photo</th>\n",
       "      <th>Nationality</th>\n",
       "      <th>Flag</th>\n",
       "      <th>Overall</th>\n",
       "      <th>Potential</th>\n",
       "      <th>Club</th>\n",
       "      <th>...</th>\n",
       "      <th>Interceptions</th>\n",
       "      <th>Positioning</th>\n",
       "      <th>Vision</th>\n",
       "      <th>Penalties</th>\n",
       "      <th>Composure</th>\n",
       "      <th>Marking</th>\n",
       "      <th>StandingTackle</th>\n",
       "      <th>SlidingTackle</th>\n",
       "      <th>Release Clause</th>\n",
       "      <th>Label</th>\n",
       "    </tr>\n",
       "  </thead>\n",
       "  <tbody>\n",
       "    <tr>\n",
       "      <th>1409</th>\n",
       "      <td>1409</td>\n",
       "      <td>210315</td>\n",
       "      <td>De Tomás</td>\n",
       "      <td>23</td>\n",
       "      <td>https://cdn.sofifa.org/players/4/19/210315.png</td>\n",
       "      <td>Spain</td>\n",
       "      <td>https://cdn.sofifa.org/flags/45.png</td>\n",
       "      <td>76</td>\n",
       "      <td>83</td>\n",
       "      <td>Rayo Vallecano</td>\n",
       "      <td>...</td>\n",
       "      <td>22.0</td>\n",
       "      <td>75.0</td>\n",
       "      <td>48.0</td>\n",
       "      <td>75.0</td>\n",
       "      <td>62.0</td>\n",
       "      <td>53.0</td>\n",
       "      <td>16.0</td>\n",
       "      <td>20.0</td>\n",
       "      <td>NaN</td>\n",
       "      <td>2</td>\n",
       "    </tr>\n",
       "    <tr>\n",
       "      <th>3887</th>\n",
       "      <td>3887</td>\n",
       "      <td>243686</td>\n",
       "      <td>Chiquinho</td>\n",
       "      <td>22</td>\n",
       "      <td>https://cdn.sofifa.org/players/4/19/243686.png</td>\n",
       "      <td>Portugal</td>\n",
       "      <td>https://cdn.sofifa.org/flags/38.png</td>\n",
       "      <td>72</td>\n",
       "      <td>78</td>\n",
       "      <td>Moreirense FC</td>\n",
       "      <td>...</td>\n",
       "      <td>51.0</td>\n",
       "      <td>67.0</td>\n",
       "      <td>72.0</td>\n",
       "      <td>74.0</td>\n",
       "      <td>68.0</td>\n",
       "      <td>46.0</td>\n",
       "      <td>56.0</td>\n",
       "      <td>41.0</td>\n",
       "      <td>€9.8M</td>\n",
       "      <td>2</td>\n",
       "    </tr>\n",
       "    <tr>\n",
       "      <th>7190</th>\n",
       "      <td>7190</td>\n",
       "      <td>244621</td>\n",
       "      <td>Vinícius</td>\n",
       "      <td>23</td>\n",
       "      <td>https://cdn.sofifa.org/players/4/19/244621.png</td>\n",
       "      <td>Brazil</td>\n",
       "      <td>https://cdn.sofifa.org/flags/54.png</td>\n",
       "      <td>68</td>\n",
       "      <td>75</td>\n",
       "      <td>Rio Ave FC</td>\n",
       "      <td>...</td>\n",
       "      <td>16.0</td>\n",
       "      <td>68.0</td>\n",
       "      <td>57.0</td>\n",
       "      <td>68.0</td>\n",
       "      <td>71.0</td>\n",
       "      <td>20.0</td>\n",
       "      <td>22.0</td>\n",
       "      <td>21.0</td>\n",
       "      <td>NaN</td>\n",
       "      <td>2</td>\n",
       "    </tr>\n",
       "  </tbody>\n",
       "</table>\n",
       "<p>3 rows × 85 columns</p>\n",
       "</div>"
      ],
      "text/plain": [
       "      Unnamed: 0      ID       Name  Age  \\\n",
       "1409        1409  210315   De Tomás   23   \n",
       "3887        3887  243686  Chiquinho   22   \n",
       "7190        7190  244621   Vinícius   23   \n",
       "\n",
       "                                               Photo Nationality  \\\n",
       "1409  https://cdn.sofifa.org/players/4/19/210315.png       Spain   \n",
       "3887  https://cdn.sofifa.org/players/4/19/243686.png    Portugal   \n",
       "7190  https://cdn.sofifa.org/players/4/19/244621.png      Brazil   \n",
       "\n",
       "                                     Flag  Overall  Potential            Club  \\\n",
       "1409  https://cdn.sofifa.org/flags/45.png       76         83  Rayo Vallecano   \n",
       "3887  https://cdn.sofifa.org/flags/38.png       72         78   Moreirense FC   \n",
       "7190  https://cdn.sofifa.org/flags/54.png       68         75      Rio Ave FC   \n",
       "\n",
       "      ... Interceptions Positioning Vision  Penalties Composure  Marking  \\\n",
       "1409  ...          22.0        75.0   48.0       75.0      62.0     53.0   \n",
       "3887  ...          51.0        67.0   72.0       74.0      68.0     46.0   \n",
       "7190  ...          16.0        68.0   57.0       68.0      71.0     20.0   \n",
       "\n",
       "      StandingTackle  SlidingTackle Release Clause Label  \n",
       "1409            16.0           20.0            NaN     2  \n",
       "3887            56.0           41.0          €9.8M     2  \n",
       "7190            22.0           21.0            NaN     2  \n",
       "\n",
       "[3 rows x 85 columns]"
      ]
     },
     "execution_count": 85,
     "metadata": {},
     "output_type": "execute_result"
    }
   ],
   "source": [
    "SLB_newplayers = fifadb.loc[(fifadb['ID']==210315) | (fifadb['ID']==243686) | (fifadb['ID']==244621)]\n",
    "SLB_newplayers"
   ]
  },
  {
   "cell_type": "code",
   "execution_count": 68,
   "metadata": {},
   "outputs": [],
   "source": [
    "SLB_players = SLB_players.append(SLB_newplayers)"
   ]
  },
  {
   "cell_type": "code",
   "execution_count": 69,
   "metadata": {
    "scrolled": true
   },
   "outputs": [],
   "source": [
    "SLB_players = SLB_players.loc[SLB_players['Name']!='João Félix']"
   ]
  },
  {
   "cell_type": "code",
   "execution_count": 80,
   "metadata": {},
   "outputs": [],
   "source": [
    "SLB_similarities = {}\n",
    "\n",
    "for i in SLB_players['ID'].values:\n",
    "    v = SLB_players.loc[SLB_players['ID']==i][['Finishing', 'HeadingAccuracy', 'ShortPassing', 'Volleys', 'Dribbling',\n",
    "       'Curve', 'FKAccuracy', 'LongPassing', 'BallControl', 'Acceleration',\n",
    "       'SprintSpeed', 'Agility', 'Reactions', 'Balance', 'ShotPower',\n",
    "       'Jumping', 'Stamina', 'Strength', 'LongShots', 'Aggression',\n",
    "       'Interceptions', 'Positioning', 'Vision', 'Penalties', 'Composure',\n",
    "       'Marking', 'StandingTackle', 'SlidingTackle']].values\n",
    "    sim = 1/(distance.euclidean(JF_vector,v))\n",
    "    SLB_similarities[i] = sim"
   ]
  },
  {
   "cell_type": "code",
   "execution_count": 81,
   "metadata": {},
   "outputs": [],
   "source": [
    "for i in SLB_similarities:\n",
    "    SLB_similarities[i] = round(((SLB_similarities[i]-min_s)/(max_s-min_s)*100),2)"
   ]
  },
  {
   "cell_type": "code",
   "execution_count": 82,
   "metadata": {},
   "outputs": [],
   "source": [
    "SLB_similarities = pd.DataFrame(SLB_similarities.items(), columns=['ID', 'Similar'])"
   ]
  },
  {
   "cell_type": "code",
   "execution_count": 83,
   "metadata": {},
   "outputs": [],
   "source": [
    "SLB_players = pd.merge(SLB_players, SLB_similarities, how='inner', on='ID', left_on=None, right_on=None)"
   ]
  },
  {
   "cell_type": "code",
   "execution_count": 91,
   "metadata": {},
   "outputs": [
    {
     "data": {
      "text/html": [
       "<div>\n",
       "<style scoped>\n",
       "    .dataframe tbody tr th:only-of-type {\n",
       "        vertical-align: middle;\n",
       "    }\n",
       "\n",
       "    .dataframe tbody tr th {\n",
       "        vertical-align: top;\n",
       "    }\n",
       "\n",
       "    .dataframe thead th {\n",
       "        text-align: right;\n",
       "    }\n",
       "</style>\n",
       "<table border=\"1\" class=\"dataframe\">\n",
       "  <thead>\n",
       "    <tr style=\"text-align: right;\">\n",
       "      <th></th>\n",
       "      <th>6</th>\n",
       "      <th>15</th>\n",
       "      <th>23</th>\n",
       "      <th>13</th>\n",
       "      <th>10</th>\n",
       "      <th>5</th>\n",
       "      <th>9</th>\n",
       "      <th>28</th>\n",
       "      <th>14</th>\n",
       "      <th>0</th>\n",
       "      <th>27</th>\n",
       "      <th>18</th>\n",
       "    </tr>\n",
       "  </thead>\n",
       "  <tbody>\n",
       "    <tr>\n",
       "      <th>ID</th>\n",
       "      <td>216547</td>\n",
       "      <td>213432</td>\n",
       "      <td>193408</td>\n",
       "      <td>220746</td>\n",
       "      <td>230988</td>\n",
       "      <td>190972</td>\n",
       "      <td>223061</td>\n",
       "      <td>243686</td>\n",
       "      <td>212878</td>\n",
       "      <td>176769</td>\n",
       "      <td>210315</td>\n",
       "      <td>234568</td>\n",
       "    </tr>\n",
       "    <tr>\n",
       "      <th>Name</th>\n",
       "      <td>Rafa</td>\n",
       "      <td>F. Ferreyra</td>\n",
       "      <td>H. Seferović</td>\n",
       "      <td>A. Živković</td>\n",
       "      <td>F. Krovinović</td>\n",
       "      <td>E. Salvio</td>\n",
       "      <td>F. Cervi</td>\n",
       "      <td>Chiquinho</td>\n",
       "      <td>N. Castillo</td>\n",
       "      <td>Jonas</td>\n",
       "      <td>De Tomás</td>\n",
       "      <td>Gedson Fernandes</td>\n",
       "    </tr>\n",
       "    <tr>\n",
       "      <th>Age</th>\n",
       "      <td>25</td>\n",
       "      <td>27</td>\n",
       "      <td>26</td>\n",
       "      <td>21</td>\n",
       "      <td>22</td>\n",
       "      <td>27</td>\n",
       "      <td>24</td>\n",
       "      <td>22</td>\n",
       "      <td>25</td>\n",
       "      <td>34</td>\n",
       "      <td>23</td>\n",
       "      <td>19</td>\n",
       "    </tr>\n",
       "    <tr>\n",
       "      <th>Nationality</th>\n",
       "      <td>Portugal</td>\n",
       "      <td>Argentina</td>\n",
       "      <td>Switzerland</td>\n",
       "      <td>Serbia</td>\n",
       "      <td>Croatia</td>\n",
       "      <td>Argentina</td>\n",
       "      <td>Argentina</td>\n",
       "      <td>Portugal</td>\n",
       "      <td>Chile</td>\n",
       "      <td>Brazil</td>\n",
       "      <td>Spain</td>\n",
       "      <td>Portugal</td>\n",
       "    </tr>\n",
       "    <tr>\n",
       "      <th>Overall</th>\n",
       "      <td>80</td>\n",
       "      <td>77</td>\n",
       "      <td>74</td>\n",
       "      <td>77</td>\n",
       "      <td>78</td>\n",
       "      <td>81</td>\n",
       "      <td>79</td>\n",
       "      <td>72</td>\n",
       "      <td>77</td>\n",
       "      <td>84</td>\n",
       "      <td>76</td>\n",
       "      <td>76</td>\n",
       "    </tr>\n",
       "    <tr>\n",
       "      <th>Potential</th>\n",
       "      <td>83</td>\n",
       "      <td>78</td>\n",
       "      <td>76</td>\n",
       "      <td>84</td>\n",
       "      <td>84</td>\n",
       "      <td>81</td>\n",
       "      <td>84</td>\n",
       "      <td>78</td>\n",
       "      <td>82</td>\n",
       "      <td>84</td>\n",
       "      <td>83</td>\n",
       "      <td>86</td>\n",
       "    </tr>\n",
       "    <tr>\n",
       "      <th>Club</th>\n",
       "      <td>SL Benfica</td>\n",
       "      <td>SL Benfica</td>\n",
       "      <td>SL Benfica</td>\n",
       "      <td>SL Benfica</td>\n",
       "      <td>SL Benfica</td>\n",
       "      <td>SL Benfica</td>\n",
       "      <td>SL Benfica</td>\n",
       "      <td>Moreirense FC</td>\n",
       "      <td>SL Benfica</td>\n",
       "      <td>SL Benfica</td>\n",
       "      <td>Rayo Vallecano</td>\n",
       "      <td>SL Benfica</td>\n",
       "    </tr>\n",
       "    <tr>\n",
       "      <th>Value</th>\n",
       "      <td>€18.5M</td>\n",
       "      <td>€10.5M</td>\n",
       "      <td>€7M</td>\n",
       "      <td>€12.5M</td>\n",
       "      <td>€14M</td>\n",
       "      <td>€18.5M</td>\n",
       "      <td>€17M</td>\n",
       "      <td>€4.3M</td>\n",
       "      <td>€12M</td>\n",
       "      <td>€16.5M</td>\n",
       "      <td>€11M</td>\n",
       "      <td>€12M</td>\n",
       "    </tr>\n",
       "    <tr>\n",
       "      <th>Wage</th>\n",
       "      <td>€17K</td>\n",
       "      <td>€14K</td>\n",
       "      <td>€12K</td>\n",
       "      <td>€11K</td>\n",
       "      <td>€12K</td>\n",
       "      <td>€19K</td>\n",
       "      <td>€15K</td>\n",
       "      <td>€5K</td>\n",
       "      <td>€14K</td>\n",
       "      <td>€25K</td>\n",
       "      <td>€105K</td>\n",
       "      <td>€6K</td>\n",
       "    </tr>\n",
       "    <tr>\n",
       "      <th>Position</th>\n",
       "      <td>RW</td>\n",
       "      <td>ST</td>\n",
       "      <td>ST</td>\n",
       "      <td>LW</td>\n",
       "      <td>CAM</td>\n",
       "      <td>RW</td>\n",
       "      <td>LW</td>\n",
       "      <td>LCM</td>\n",
       "      <td>ST</td>\n",
       "      <td>ST</td>\n",
       "      <td>ST</td>\n",
       "      <td>RCM</td>\n",
       "    </tr>\n",
       "    <tr>\n",
       "      <th>Similar</th>\n",
       "      <td>51.47</td>\n",
       "      <td>36.74</td>\n",
       "      <td>35.45</td>\n",
       "      <td>29.92</td>\n",
       "      <td>29.45</td>\n",
       "      <td>29.3</td>\n",
       "      <td>27.96</td>\n",
       "      <td>25.79</td>\n",
       "      <td>23.53</td>\n",
       "      <td>20.69</td>\n",
       "      <td>20.43</td>\n",
       "      <td>18.6</td>\n",
       "    </tr>\n",
       "  </tbody>\n",
       "</table>\n",
       "</div>"
      ],
      "text/plain": [
       "                     6            15            23           13  \\\n",
       "ID               216547       213432        193408       220746   \n",
       "Name               Rafa  F. Ferreyra  H. Seferović  A. Živković   \n",
       "Age                  25           27            26           21   \n",
       "Nationality    Portugal    Argentina   Switzerland       Serbia   \n",
       "Overall              80           77            74           77   \n",
       "Potential            83           78            76           84   \n",
       "Club         SL Benfica   SL Benfica    SL Benfica   SL Benfica   \n",
       "Value            €18.5M       €10.5M           €7M       €12.5M   \n",
       "Wage               €17K         €14K          €12K         €11K   \n",
       "Position             RW           ST            ST           LW   \n",
       "Similar           51.47        36.74         35.45        29.92   \n",
       "\n",
       "                        10          5           9              28  \\\n",
       "ID                  230988      190972      223061         243686   \n",
       "Name         F. Krovinović   E. Salvio    F. Cervi      Chiquinho   \n",
       "Age                     22          27          24             22   \n",
       "Nationality        Croatia   Argentina   Argentina       Portugal   \n",
       "Overall                 78          81          79             72   \n",
       "Potential               84          81          84             78   \n",
       "Club            SL Benfica  SL Benfica  SL Benfica  Moreirense FC   \n",
       "Value                 €14M      €18.5M        €17M          €4.3M   \n",
       "Wage                  €12K        €19K        €15K            €5K   \n",
       "Position               CAM          RW          LW            LCM   \n",
       "Similar              29.45        29.3       27.96          25.79   \n",
       "\n",
       "                      14          0               27                18  \n",
       "ID                212878      176769          210315            234568  \n",
       "Name         N. Castillo       Jonas        De Tomás  Gedson Fernandes  \n",
       "Age                   25          34              23                19  \n",
       "Nationality        Chile      Brazil           Spain          Portugal  \n",
       "Overall               77          84              76                76  \n",
       "Potential             82          84              83                86  \n",
       "Club          SL Benfica  SL Benfica  Rayo Vallecano        SL Benfica  \n",
       "Value               €12M      €16.5M            €11M              €12M  \n",
       "Wage                €14K        €25K           €105K               €6K  \n",
       "Position              ST          ST              ST               RCM  \n",
       "Similar            23.53       20.69           20.43              18.6  "
      ]
     },
     "execution_count": 91,
     "metadata": {},
     "output_type": "execute_result"
    }
   ],
   "source": [
    "SLB_players.sort_values(by='Similar', ascending=False).head(12)[['ID',\n",
    "                                                    'Name', 'Age', 'Nationality',\n",
    "                                                    'Overall', 'Potential', 'Club', 'Value', 'Wage',\n",
    "                                                    'Position', 'Similar']].T"
   ]
  },
  {
   "cell_type": "markdown",
   "metadata": {},
   "source": [
    "According to this dataset and analysis, Rafa would be the best player to replace João Félix in the line-up. Which makes sense because it was a role in which he player several times when he was in Braga. Another interesting result is Zivkovic being the 4th, since he is one of the last options to the wing positions. Is it here the ultimate opportunity for the Serbian finally win an important role in the team? Time, but specially Bruno Lage, will tell..."
   ]
  }
 ],
 "metadata": {
  "kernelspec": {
   "display_name": "Python 3",
   "language": "python",
   "name": "python3"
  },
  "language_info": {
   "codemirror_mode": {
    "name": "ipython",
    "version": 3
   },
   "file_extension": ".py",
   "mimetype": "text/x-python",
   "name": "python",
   "nbconvert_exporter": "python",
   "pygments_lexer": "ipython3",
   "version": "3.7.3"
  }
 },
 "nbformat": 4,
 "nbformat_minor": 2
}
